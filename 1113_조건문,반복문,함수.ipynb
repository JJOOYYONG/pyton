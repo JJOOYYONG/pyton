{
 "cells": [
  {
   "cell_type": "code",
   "execution_count": null,
   "metadata": {},
   "outputs": [],
   "source": [
    "#조건문 작성후 : 조건 완료\n",
    "#실행문장 tap 을 눌러 간격을 넓혀야함\n",
    "myage= int(input())\n",
    "if myage<30:\n",
    "    print(\"Welcome to the Club.\")\n",
    "else:\n",
    "    print(\"sorry.No accepted.\")"
   ]
  },
  {
   "cell_type": "code",
   "execution_count": null,
   "metadata": {},
   "outputs": [],
   "source": [
    "# x is y  x와 y 의 메모리 주소가 같은지 검사"
   ]
  },
  {
   "cell_type": "code",
   "execution_count": null,
   "metadata": {},
   "outputs": [],
   "source": [
    "a=100\n",
    "b=100\n",
    "print(a is b)\n",
    "\n",
    "a=300\n",
    "b=300\n",
    "print(a is b)\n",
    "\n",
    "#파이썬은 -5~256까지 변하지 않는 메모리(정적메모리)주소에 값을 할당\n",
    "#a,b=100 일때  is 연산자는 true 가 나오지만 300 이되면 false 가 나옴"
   ]
  },
  {
   "cell_type": "code",
   "execution_count": null,
   "metadata": {},
   "outputs": [],
   "source": [
    "# 파이션은 true ==1 , false == 0 으로 처리하기도 한다.\n",
    "if(3>5)<10 : print(\"true\")\n",
    "else:print(\"false\")\n",
    "\n",
    "#3>5 거짓 이므로 0으로 치환 (0)<10 참값"
   ]
  },
  {
   "cell_type": "code",
   "execution_count": null,
   "metadata": {},
   "outputs": [],
   "source": [
    "#논리연산자\n",
    "a=8\n",
    "b=5\n",
    "#둘다 참이어야 참\n",
    "a==8 and b==4\n",
    "#하나라도 참이면 참\n",
    "a>7 or b>7\n",
    "#참이면 false 거짓이면 true\n",
    "not(a>7)"
   ]
  },
  {
   "cell_type": "code",
   "execution_count": null,
   "metadata": {},
   "outputs": [],
   "source": [
    "score = int(input(\"Enter your score:\"))\n",
    "\n",
    "if score >=90:\n",
    "    grade='A'\n",
    "elif score >=80:\n",
    "    grade='B'\n",
    "elif score >=70:\n",
    "    grade='C'\n",
    "elif score>=60:\n",
    "    grade='D'\n",
    "else:\n",
    "    grade='F'\n",
    "    \n",
    "print(grade)"
   ]
  },
  {
   "cell_type": "code",
   "execution_count": null,
   "metadata": {},
   "outputs": [],
   "source": [
    "#예제\n",
    "print(\"당신이 태어난 연도를 입력하세요\")\n",
    "\n",
    "year=int(input())\n",
    "age=2020-year+1\n",
    "\n",
    "if age<=26 and age >=20:\n",
    "    type='대학생'\n",
    "elif age<20 and age>=17:\n",
    "    type='고등학생'\n",
    "elif age<17 and age>=14:\n",
    "    type='중학생'\n",
    "elif age<14 and age>=8:\n",
    "    type='초등학생'\n",
    "else:\n",
    "    type='학생이 아닙니다.'\n",
    "    \n",
    "print(type)"
   ]
  },
  {
   "cell_type": "code",
   "execution_count": null,
   "metadata": {},
   "outputs": [],
   "source": [
    "#중첩if문\n",
    "print(\"당신이 태어난 연도를 입력하세요\")\n",
    "year=int(input())\n",
    "age=2020-year+1\n",
    "\n",
    "if age>26:\n",
    "    type='학생이 아닙니다.'\n",
    "else:\n",
    "    if age >=20:\n",
    "        type='대학생입니다.'\n",
    "    elif age >=17:\n",
    "        type='고등학생'\n",
    "    elif age >=14:\n",
    "        type='중학생'\n",
    "    elif age >=8:\n",
    "        type='초등학생'\n",
    "    else:\n",
    "        type='학생이 아님'\n",
    "print(type)"
   ]
  },
  {
   "cell_type": "code",
   "execution_count": null,
   "metadata": {},
   "outputs": [],
   "source": [
    "#반복문 - for\n",
    "for looper in[1,2,3,4,5]:\n",
    "    print('hello')\n",
    "#for 변수 in range(시작번호,마지막번호,증가값)\n",
    "#1씩 증가는 생략가능 / 마지막번호 앞까지만 증가\n",
    "for i in range(1,10,2):\n",
    "    print(i)\n",
    "    \n",
    "sum=0\n",
    "for ii in range(0,100,1):\n",
    "    sum+=i\n",
    "    print(ii,'=',sum)"
   ]
  },
  {
   "cell_type": "code",
   "execution_count": null,
   "metadata": {},
   "outputs": [],
   "source": [
    "#문자열 반복문\n",
    "for z in 'abcdefg':\n",
    "    print(z)\n",
    "\n",
    "for h in range(5):\n",
    "    print('배고파요')\n",
    "\n",
    "for i in range(10,0,-1):\n",
    "    print(i)"
   ]
  },
  {
   "cell_type": "code",
   "execution_count": null,
   "metadata": {},
   "outputs": [],
   "source": [
    "#while문 : 조건이 거짓일 경우 반복을 더이상 수행하지 않음\n",
    "i=1\n",
    "sum=0\n",
    "while i <100 :\n",
    "    sum+=i\n",
    "    if sum >300 : break\n",
    "    print(i,':',sum)\n",
    "    i+=1"
   ]
  },
  {
   "cell_type": "code",
   "execution_count": null,
   "metadata": {},
   "outputs": [],
   "source": [
    "#특정조건에서 남은 명령을 건너뛰고 다음 반복문을 수행한다.\n",
    "for i in range(100):\n",
    "    if i%2 ==0:\n",
    "        continue\n",
    "    print(i)"
   ]
  },
  {
   "cell_type": "code",
   "execution_count": null,
   "metadata": {},
   "outputs": [],
   "source": [
    "#예제\n",
    "for i in range(1,10):\n",
    "    for j in range(2,10):\n",
    "        print(j,'*',i,'=',j*i,end='\\t')\n",
    "    print()"
   ]
  },
  {
   "cell_type": "code",
   "execution_count": null,
   "metadata": {},
   "outputs": [],
   "source": [
    "#문자열 역순 출력\n",
    "sentence='I love you'\n",
    "reverse_sentence=''\n",
    "for char in sentence:\n",
    "    reverse_sentence = char+reverse_sentence\n",
    "print(reverse_sentence)\n",
    "\n",
    "print('=====================')\n",
    "\n",
    "str='i am hungrry'\n",
    "for i in str:\n",
    "    str = str[1:]+i\n",
    "    print(str)"
   ]
  },
  {
   "cell_type": "code",
   "execution_count": null,
   "metadata": {},
   "outputs": [],
   "source": [
    "#이진수 만들기\n",
    "decimal =10\n",
    "result=''\n",
    "while(decimal>0):\n",
    "    remainder = decimal%2\n",
    "    decimal = decimal//2\n",
    "    result = str(remainder)+result\n",
    "print(result)"
   ]
  },
  {
   "cell_type": "code",
   "execution_count": null,
   "metadata": {},
   "outputs": [],
   "source": [
    "kor_score =[49,80,20,100,80]\n",
    "math_score=[43,60,85,30,90]\n",
    "eng_score=[49,82,48,50,100]\n",
    "midterm_score=[kor_score,math_score,eng_score]\n",
    "\n",
    "student_score=[0,0,0,0,0]\n",
    "\n",
    "for i in range(3):\n",
    "    for j in range(5):\n",
    "        student_score[j]+=midterm_score[i][j]\n",
    "\n",
    "for i in range(5):\n",
    "    student_score[i]/=3\n",
    "        \n",
    "        \n",
    "print(student_score)\n",
    "        "
   ]
  },
  {
   "cell_type": "code",
   "execution_count": null,
   "metadata": {},
   "outputs": [],
   "source": [
    "#함수\n",
    "#def:definition의 줄임말, 함수를 정의하여 시작한다는 의미\n",
    "\n",
    "def calculate_reng_area(x,y):\n",
    "    return x*y\n",
    "reng_x=10\n",
    "reng_y=20\n",
    "\n",
    "print('사각형의 넓이',calculate_reng_area(reng_x,reng_y))"
   ]
  },
  {
   "cell_type": "code",
   "execution_count": null,
   "metadata": {},
   "outputs": [],
   "source": [
    "def aaa(a):\n",
    "    return a**2\n",
    "print(aaa(5))"
   ]
  },
  {
   "cell_type": "code",
   "execution_count": null,
   "metadata": {},
   "outputs": [],
   "source": [
    "def func1(a):\n",
    "    a=5\n",
    "    print(a)\n",
    "i=10\n",
    "func1(i)\n",
    "print(i)\n"
   ]
  },
  {
   "cell_type": "code",
   "execution_count": null,
   "metadata": {},
   "outputs": [],
   "source": [
    "def func2(a):\n",
    "    a.append(1)\n",
    "    print(a)\n",
    "\n",
    "aa=[0]\n",
    "func2(aa)\n",
    "print(aa)"
   ]
  },
  {
   "cell_type": "code",
   "execution_count": null,
   "metadata": {},
   "outputs": [],
   "source": [
    "def func1():\n",
    "    global s\n",
    "    s='I love Canada'\n",
    "    print(s)\n",
    "func1()\n",
    "s='i love maple'\n",
    "print(s)"
   ]
  },
  {
   "cell_type": "code",
   "execution_count": null,
   "metadata": {},
   "outputs": [],
   "source": [
    "#재귀함수 : 자기 자신을 호출하는 함수\n",
    "def factorial(n):\n",
    "    if n==1:\n",
    "        return 1\n",
    "    else:\n",
    "        return n*factorial(n-1)\n",
    "    \n",
    "num=int(input('팩토리얼 구할 수  입력'))\n",
    "print(str(num)+'!=',end='')\n",
    "print(factorial(num))"
   ]
  },
  {
   "cell_type": "code",
   "execution_count": null,
   "metadata": {},
   "outputs": [],
   "source": [
    "#키워드 인수\n",
    "def print_something(my_name,your_name):\n",
    "    print(\"hello {0},My name is {1}\".format(your_name,my_name))\n",
    "    \n",
    "print_something(\"james\",\"max\")\n",
    "print_something(your_name=\"max\",my_name=\"james\")"
   ]
  },
  {
   "cell_type": "code",
   "execution_count": null,
   "metadata": {},
   "outputs": [],
   "source": [
    "#디폴트 인수\n",
    "def print_something_2(my_name,your_name=\"max\"):\n",
    "    print(\"hellp {0},My name is {1}\".format(your_name,my_name))\n",
    "    \n",
    "print_something_2(\"james\",\"max\")\n",
    "print_something_2(\"james\")"
   ]
  },
  {
   "cell_type": "code",
   "execution_count": 6,
   "metadata": {},
   "outputs": [
    {
     "name": "stdout",
     "output_type": "stream",
     "text": [
      "i= 20 j=10\n"
     ]
    }
   ],
   "source": [
    "def func(i,j=10):\n",
    "    print(\"i= {0} j={1}\".format(i,j))\n",
    "func(j=10, i=20)"
   ]
  }
 ],
 "metadata": {
  "kernelspec": {
   "display_name": "Python 3",
   "language": "python",
   "name": "python3"
  },
  "language_info": {
   "codemirror_mode": {
    "name": "ipython",
    "version": 3
   },
   "file_extension": ".py",
   "mimetype": "text/x-python",
   "name": "python",
   "nbconvert_exporter": "python",
   "pygments_lexer": "ipython3",
   "version": "3.7.4"
  }
 },
 "nbformat": 4,
 "nbformat_minor": 2
}
